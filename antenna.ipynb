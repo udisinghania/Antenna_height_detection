{
 "cells": [
  {
   "cell_type": "code",
   "execution_count": 1,
   "metadata": {},
   "outputs": [
    {
     "name": "stderr",
     "output_type": "stream",
     "text": [
      "/home/udit/anaconda3/lib/python3.6/site-packages/h5py/__init__.py:36: FutureWarning: Conversion of the second argument of issubdtype from `float` to `np.floating` is deprecated. In future, it will be treated as `np.float64 == np.dtype(float).type`.\n",
      "  from ._conv import register_converters as _register_converters\n"
     ]
    }
   ],
   "source": [
    "import time\n",
    "import numpy as np\n",
    "import h5py\n",
    "import matplotlib.pyplot as plt\n",
    "import scipy\n",
    "import pandas as pd \n",
    "from sklearn import preprocessing\n",
    "from sklearn.metrics import accuracy_score\n",
    "df1 = pd.read_csv(\"/home/udit/Documents/cognet/data_full.csv\")\n",
    "\n",
    "\n",
    "\n",
    "\n",
    "X_train=np.array(df1.iloc[:,:3])\n",
    "X_train = preprocessing.normalize(X_train)\n",
    "Y_train=np.array(df1.iloc[:,3:])\n",
    "Y_train = preprocessing.normalize(Y_train)\n",
    "df2 = pd.read_csv(\"/home/udit/Documents/cognet/data_micro_antenna.csv\")\n",
    "X_test=np.array(df2.iloc[:,:3])\n",
    "X_test = preprocessing.normalize(X_test)\n",
    "Y_test=np.array(df2.iloc[:,3:5])\n",
    "Y_test = preprocessing.normalize(Y_test)\n",
    "X_train=X_train.T\n",
    "Y_train=Y_train.T\n",
    "X_test=X_test.T\n",
    "Y_test=Y_test.T\n",
    "\n",
    "#print(X_train.T)\n",
    "#print(Y_train.T)"
   ]
  },
  {
   "cell_type": "code",
   "execution_count": 2,
   "metadata": {},
   "outputs": [],
   "source": [
    "#Initialise parameters \n",
    "#Sigmoid \n",
    "#Relu\n",
    "#Sigmoid_b\n",
    "#Relu_b \n",
    "#Linear_for\n",
    "#Linear_activation_for\n",
    "#Forward_prop\n",
    "#Cost\n",
    "#Linear_b\n",
    "#Linear_activation_b\n",
    "#Backpropagation \n",
    "#Update_parameters\n",
    "#NN_model\n",
    "#Predict"
   ]
  },
  {
   "cell_type": "code",
   "execution_count": 3,
   "metadata": {},
   "outputs": [],
   "source": [
    "def initialise_parameters(layer_dims):\n",
    "    np.random.seed(3)\n",
    "    l = len(layer_dims)\n",
    "    parameters={}\n",
    "    for i in range (1,l):\n",
    "        parameters['W'+str(i)] = np.random.randn(layer_dims[i],layer_dims[i-1])*0.01\n",
    "        parameters['b'+str(i)] = np.zeros((layer_dims[i],1))\n",
    "        \n",
    "    return parameters\n"
   ]
  },
  {
   "cell_type": "code",
   "execution_count": 4,
   "metadata": {},
   "outputs": [
    {
     "name": "stdout",
     "output_type": "stream",
     "text": [
      "(7, 3)\n",
      "(7, 1)\n",
      "(4, 7)\n",
      "(4, 1)\n",
      "(2, 4)\n",
      "(2, 1)\n"
     ]
    }
   ],
   "source": [
    "layers_dims = [3,7,4,2]\n",
    "#print(initialise_parameters(r))\n",
    "parameters=initialise_parameters(layers_dims)\n",
    "print(parameters['W'+str(1)].shape)\n",
    "print(parameters['b'+str(1)].shape)\n",
    "print(parameters['W'+str(2)].shape)\n",
    "print(parameters['b'+str(2)].shape)\n",
    "print(parameters['W'+str(3)].shape)\n",
    "print(parameters['b'+str(3)].shape)"
   ]
  },
  {
   "cell_type": "code",
   "execution_count": 5,
   "metadata": {},
   "outputs": [],
   "source": [
    "#sigmoid \n",
    "def sigmoid(z):\n",
    "    \n",
    "    s = 1/(1+np.exp(-z))\n",
    "    \n",
    "    cache = z\n",
    "    return s,cache;"
   ]
  },
  {
   "cell_type": "code",
   "execution_count": 6,
   "metadata": {},
   "outputs": [],
   "source": [
    "#relu\n",
    "def relu(Z):\n",
    "    \n",
    "    A = np.maximum(0,Z)\n",
    "    \n",
    "    cache = Z \n",
    "    return A, cache\n"
   ]
  },
  {
   "cell_type": "code",
   "execution_count": 7,
   "metadata": {},
   "outputs": [],
   "source": [
    "#linear_forward\n",
    "def linear_for(A,W,b):\n",
    "    z = np.dot(W,A)+b\n",
    "    \n",
    "    cache = (A,W,b)\n",
    "    return z,cache"
   ]
  },
  {
   "cell_type": "code",
   "execution_count": 8,
   "metadata": {},
   "outputs": [],
   "source": [
    "#linear_activation_forward\n",
    "def linear_activation_for(A,W,b,fun):\n",
    "    if fun == 'sigmoid':\n",
    "      \n",
    "        z,linear_cache = linear_for(A,W,b)\n",
    "     \n",
    "        A,activation_cache = sigmoid(z)\n",
    "        #print(A.shape)\n",
    "        \n",
    "    elif fun == 'relu':\n",
    "   \n",
    "        z,linear_cache = linear_for(A,W,b)\n",
    "        A,activation_cache = relu(z)    \n",
    "        #print(A.shape)\n",
    "        \n",
    "    cache=(linear_cache,activation_cache)\n",
    "    return A,cache;"
   ]
  },
  {
   "cell_type": "code",
   "execution_count": 9,
   "metadata": {},
   "outputs": [],
   "source": [
    "#forward_prop\n",
    "def forward_prop(X,parameters):\n",
    "    \n",
    "    L = len(parameters)//2\n",
    "    A = X\n",
    "    caches=[]\n",
    "    \n",
    "    for i in range (1,L):\n",
    "        A_prev = A\n",
    "    \n",
    "        A,cache = linear_activation_for(A_prev,parameters['W'+str(i)],parameters['b'+str(i)],fun='sigmoid')\n",
    "        caches.append(cache)\n",
    "        \n",
    "        \n",
    "    A,cache = linear_activation_for(A,parameters['W'+str(L)],parameters['b'+str(L)],fun='relu')\n",
    "    caches.append(cache)\n",
    "    return A,caches;"
   ]
  },
  {
   "cell_type": "code",
   "execution_count": 10,
   "metadata": {},
   "outputs": [],
   "source": [
    "A,caches = forward_prop(X_train,parameters)\n",
    "#print(A)\n",
    "#print(caches)"
   ]
  },
  {
   "cell_type": "code",
   "execution_count": 11,
   "metadata": {},
   "outputs": [],
   "source": [
    "#cost function\n",
    "def compute_cost(AL,Y):\n",
    "    \n",
    "    m = Y.shape[1]\n",
    "    cost =np.sum((AL-Y)**2)/(2*m)\n",
    "    #cost=cost/(2*m)\n",
    "    \n",
    "    return cost;"
   ]
  },
  {
   "cell_type": "code",
   "execution_count": 12,
   "metadata": {},
   "outputs": [
    {
     "name": "stdout",
     "output_type": "stream",
     "text": [
      "0.4831874935615264\n"
     ]
    }
   ],
   "source": [
    "#print(A.shape)\n",
    "#print(Y_train.shape)\n",
    "c=compute_cost(A,Y_train)\n",
    "print(c)"
   ]
  },
  {
   "cell_type": "code",
   "execution_count": 13,
   "metadata": {},
   "outputs": [],
   "source": [
    "def relu_back(dA, cache):\n",
    "    \n",
    "   \n",
    "    Z = cache\n",
    "    dZ = np.array(dA, copy=True) # just converting dz to a correct object.\n",
    "    \n",
    "    # When z <= 0, you should set dz to 0 as well. \n",
    "    dZ[Z <= 0] = 0\n",
    "    \n",
    "    return dZ;"
   ]
  },
  {
   "cell_type": "code",
   "execution_count": 14,
   "metadata": {},
   "outputs": [],
   "source": [
    "def sigmoid_back(dA , cache):\n",
    "    \n",
    "    Z = cache\n",
    "    \n",
    "    s = 1/(1+np.exp(-Z))\n",
    "    #print(dA.shape)\n",
    "    #print(s.shape)\n",
    "    dZ = dA * s * (1-s)\n",
    "\n",
    "    \n",
    "    return dZ;"
   ]
  },
  {
   "cell_type": "code",
   "execution_count": 15,
   "metadata": {},
   "outputs": [],
   "source": [
    "def linear_back(dZ,cache):\n",
    "    \n",
    "    A_prev, W, b = cache\n",
    "    m = A_prev.shape[1]\n",
    "    \n",
    "    dW = 1/m*(np.dot(dZ,A_prev.T))\n",
    "    db = 1/m*(np.sum(dZ,axis=1, keepdims=True))\n",
    "    dA_prev = np.dot(W.T,dZ)\n",
    "    \n",
    "    return dA_prev,dW,db"
   ]
  },
  {
   "cell_type": "code",
   "execution_count": 16,
   "metadata": {},
   "outputs": [],
   "source": [
    "def linear_activation_back(dA,cache,activation):\n",
    "    \n",
    "    linear_cache, activation_cache = cache\n",
    "    \n",
    "    if activation == \"relu\":\n",
    "        \n",
    "        dZ = relu_back(dA, activation_cache)\n",
    "        dA_prev, dW, db = linear_back(dZ, linear_cache)\n",
    "        \n",
    "        \n",
    "    elif activation == \"sigmoid\":\n",
    "        \n",
    "        dZ = sigmoid_back(dA, activation_cache)\n",
    "        dA_prev, dW, db = linear_back(dZ, linear_cache)\n",
    "        \n",
    "    \n",
    "    return dA_prev, dW, db"
   ]
  },
  {
   "cell_type": "code",
   "execution_count": 23,
   "metadata": {},
   "outputs": [],
   "source": [
    "def L_model_backward(AL, Y, caches):\n",
    "    \n",
    "    grads = {}\n",
    "    L = len(caches) # the number of layers\n",
    "    m = AL.shape[1]\n",
    "    Y = Y.reshape(AL.shape) # after this line, Y is the same shape as AL\n",
    "\n",
    "    dAL = (AL-Y)\n",
    "    \n",
    "\n",
    "    current_cache = caches[L-1]\n",
    "   \n",
    "    grads[\"dA\" + str(L-1)], grads[\"dW\" + str(L)], grads[\"db\" + str(L)] = linear_activation_back(dAL, current_cache, activation = 'relu')\n",
    "\n",
    "\n",
    "    for l in reversed(range(L-1)):\n",
    "        \n",
    "        current_cache = caches[l]\n",
    "        \n",
    "        dA_prev_temp, dW_temp, db_temp = linear_activation_back(grads[\"dA\"+str(l+1)], current_cache, activation = \"sigmoid\")\n",
    "        grads[\"dA\" + str(l)] = dA_prev_temp\n",
    "        grads[\"dW\" + str(l + 1)] = dW_temp\n",
    "        grads[\"db\" + str(l + 1)] = db_temp\n",
    "        \n",
    "    return grads"
   ]
  },
  {
   "cell_type": "code",
   "execution_count": 24,
   "metadata": {},
   "outputs": [],
   "source": [
    "def update_parameters(parameters, grads, learning_rate):\n",
    "    \n",
    "    L = len(parameters) // 2 \n",
    "\n",
    "    for l in range(L):\n",
    "        parameters[\"W\" + str(l+1)] = parameters['W'+str(l+1)]-learning_rate*grads['dW'+str(l+1)]\n",
    "        parameters[\"b\" + str(l+1)] = parameters['b'+str(l+1)]-learning_rate*grads['db'+str(l+1)]\n",
    "   \n",
    "    return parameters"
   ]
  },
  {
   "cell_type": "code",
   "execution_count": 25,
   "metadata": {},
   "outputs": [],
   "source": [
    "def L_layer_model(X, Y, layers_dims, learning_rate = 0.01, num_iterations = 3000, print_cost=False):#lr was 0.009\n",
    "    \n",
    "    np.random.seed(1)\n",
    "    costs = []             \n",
    "    \n",
    "    parameters = initialise_parameters(layers_dims)\n",
    "    \n",
    "    for i in range(0, num_iterations):\n",
    "\n",
    "        \n",
    "        AL, caches = forward_prop(X, parameters)\n",
    "        \n",
    "        cost = compute_cost(AL, Y)\n",
    "        \n",
    "        grads = L_model_backward(AL, Y, caches)\n",
    "        \n",
    "        parameters = update_parameters(parameters, grads, learning_rate)\n",
    "        \n",
    "                \n",
    "        # Print the cost every 100 training example\n",
    "        if print_cost and i % 100 == 0:\n",
    "            print (\"Cost after iteration %i: %f\" %(i, cost))\n",
    "        if print_cost and i % 100 == 0:\n",
    "            costs.append(cost)\n",
    "            \n",
    "    # plot the cost\n",
    "    plt.plot(np.squeeze(costs))\n",
    "    plt.ylabel('cost')\n",
    "    plt.xlabel('iterations (per tens)')\n",
    "    plt.title(\"Learning rate =\" + str(learning_rate))\n",
    "    plt.show()\n",
    "    \n",
    "    return parameters"
   ]
  },
  {
   "cell_type": "code",
   "execution_count": 26,
   "metadata": {},
   "outputs": [
    {
     "name": "stdout",
     "output_type": "stream",
     "text": [
      "Cost after iteration 0: 0.483187\n",
      "Cost after iteration 100: 0.037376\n",
      "Cost after iteration 200: 0.029816\n",
      "Cost after iteration 300: 0.029698\n",
      "Cost after iteration 400: 0.029696\n",
      "Cost after iteration 500: 0.029696\n",
      "Cost after iteration 600: 0.029696\n",
      "Cost after iteration 700: 0.029696\n",
      "Cost after iteration 800: 0.029696\n",
      "Cost after iteration 900: 0.029696\n",
      "Cost after iteration 1000: 0.029696\n",
      "Cost after iteration 1100: 0.029696\n",
      "Cost after iteration 1200: 0.029696\n",
      "Cost after iteration 1300: 0.029696\n",
      "Cost after iteration 1400: 0.029696\n",
      "Cost after iteration 1500: 0.029696\n",
      "Cost after iteration 1600: 0.029696\n",
      "Cost after iteration 1700: 0.029696\n",
      "Cost after iteration 1800: 0.029696\n",
      "Cost after iteration 1900: 0.029696\n"
     ]
    },
    {
     "data": {
      "image/png": "[encoded data removed]",
      "text/plain": [
       "<Figure size 432x288 with 1 Axes>"
      ]
     },
     "metadata": {},
     "output_type": "display_data"
    }
   ],
   "source": [
    "parameters = L_layer_model(X_train, Y_train, layers_dims, num_iterations = 2000, print_cost = True)"
   ]
  },
  {
   "cell_type": "code",
   "execution_count": 27,
   "metadata": {},
   "outputs": [
    {
     "name": "stdout",
     "output_type": "stream",
     "text": [
      "Training set accuracy\n",
      "65.21739130434783\n"
     ]
    }
   ],
   "source": [
    "A,caches = forward_prop(X_train, parameters)\n",
    "print(\"Training set accuracy\")\n",
    "p=np.sum([np.abs(A-Y_train)<0.2])\n",
    "print(p/(2*Y_train.shape[1])*100)\n"
   ]
  },
  {
   "cell_type": "code",
   "execution_count": 28,
   "metadata": {},
   "outputs": [
    {
     "name": "stdout",
     "output_type": "stream",
     "text": [
      "Test set accuracy\n",
      "60.0\n"
     ]
    }
   ],
   "source": [
    "A,caches = forward_prop(X_test, parameters)\n",
    "print(\"Test set accuracy\")\n",
    "p=np.sum([np.abs(A-Y_test)<0.2])\n",
    "print(p/(2*Y_test.shape[1])*100)"
   ]
  },
  {
   "cell_type": "code",
   "execution_count": null,
   "metadata": {},
   "outputs": [],
   "source": []
  }
 ],
 "metadata": {
  "kernelspec": {
   "display_name": "Python 3",
   "language": "python",
   "name": "python3"
  },
  "language_info": {
   "codemirror_mode": {
    "name": "ipython",
    "version": 3
   },
   "file_extension": ".py",
   "mimetype": "text/x-python",
   "name": "python",
   "nbconvert_exporter": "python",
   "pygments_lexer": "ipython3",
   "version": "3.6.5"
  },
  "widgets": {
   "application/vnd.jupyter.widget-state+json": {
    "state": {},
    "version_major": 2,
    "version_minor": 0
   }
  }
 },
 "nbformat": 4,
 "nbformat_minor": 2
}
